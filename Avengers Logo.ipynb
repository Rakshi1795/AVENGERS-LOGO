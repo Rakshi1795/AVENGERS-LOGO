{
 "cells": [
  {
   "cell_type": "code",
   "execution_count": 1,
   "id": "6ad1065c",
   "metadata": {},
   "outputs": [],
   "source": [
    "import turtle as t\n",
    "\n",
    "t.bgcolor=('black')\n",
    "\n",
    "def circle(radius,color):\n",
    "    t.color(color)\n",
    "    t.begin_fill()\n",
    "    t.circle(radius)\n",
    "    t.end_fill()\n",
    "    \n",
    "t.goto(-30,-280)\n",
    "circle(300,'red')\n",
    "\n",
    "t.goto(-30,-240)\n",
    "circle(260,'white')"
   ]
  },
  {
   "cell_type": "code",
   "execution_count": null,
   "id": "1e71ad31",
   "metadata": {},
   "outputs": [],
   "source": []
  }
 ],
 "metadata": {
  "kernelspec": {
   "display_name": "Python 3 (ipykernel)",
   "language": "python",
   "name": "python3"
  },
  "language_info": {
   "codemirror_mode": {
    "name": "ipython",
    "version": 3
   },
   "file_extension": ".py",
   "mimetype": "text/x-python",
   "name": "python",
   "nbconvert_exporter": "python",
   "pygments_lexer": "ipython3",
   "version": "3.9.12"
  }
 },
 "nbformat": 4,
 "nbformat_minor": 5
}
